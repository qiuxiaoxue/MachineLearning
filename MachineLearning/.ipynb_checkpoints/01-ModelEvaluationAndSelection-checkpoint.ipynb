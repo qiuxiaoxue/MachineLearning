{
 "cells": [
  {
   "cell_type": "markdown",
   "metadata": {},
   "source": [
    "# 模型的选择和评估"
   ]
  },
  {
   "cell_type": "markdown",
   "metadata": {},
   "source": [
    "## 查准率(precesion):即在检索后返回的结果中，真正正确的个数占整个结果的比例。"
   ]
  },
  {
   "cell_type": "markdown",
   "metadata": {},
   "source": [
    "## 查全率(recall):即在检索结果中真正正确的个数 占整个数据集（检索到的和未检索到的）中真正正确个数的比例。"
   ]
  },
  {
   "cell_type": "markdown",
   "metadata": {},
   "source": [
    "<html>\n",
    "\n",
    "<body>\n",
    "\n",
    "<h4>分类结果混淆矩阵：</h4>\n",
    "<img src=\"./sources/TP_FP.jpg\"  alt=\"分类结果混淆矩阵\" />\n",
    "<table border=\"1\">\n",
    "<tr>\n",
    "  <th rowspan=\"2\">真实情况</th>\n",
    "  <th colspan=\"2\">预测结果&nbsp;&nbsp;</th>\n",
    "</tr>\n",
    "<tr>\n",
    "  <td>&nbsp;正例&nbsp;</td>\n",
    "  <td>&nbsp;反例&nbsp;</td>\n",
    "</tr>\n",
    "    <tr>\n",
    "  <td>正例&nbsp;&nbsp;</td>\n",
    "  <td>TP(真正例)</td>\n",
    "   <td>FN(假反例)</td>\n",
    "</tr>\n",
    "<tr>\n",
    "  <td>反例&nbsp;&nbsp;</td>     \n",
    "  <td>FP(假正例)</td>\n",
    "  <td>TN(真反例)</td>\n",
    "</tr>\n",
    "</table>\n",
    "\n",
    "\n",
    "</body>\n",
    "</html>"
   ]
  }
 ],
 "metadata": {
  "kernelspec": {
   "display_name": "Python [default]",
   "language": "python",
   "name": "python3"
  },
  "language_info": {
   "codemirror_mode": {
    "name": "ipython",
    "version": 3
   },
   "file_extension": ".py",
   "mimetype": "text/x-python",
   "name": "python",
   "nbconvert_exporter": "python",
   "pygments_lexer": "ipython3",
   "version": "3.6.5"
  },
  "toc": {
   "base_numbering": 1,
   "nav_menu": {},
   "number_sections": true,
   "sideBar": true,
   "skip_h1_title": false,
   "title_cell": "Table of Contents",
   "title_sidebar": "Contents",
   "toc_cell": false,
   "toc_position": {
    "height": "calc(100% - 180px)",
    "left": "10px",
    "top": "150px",
    "width": "266px"
   },
   "toc_section_display": true,
   "toc_window_display": false
  }
 },
 "nbformat": 4,
 "nbformat_minor": 2
}
