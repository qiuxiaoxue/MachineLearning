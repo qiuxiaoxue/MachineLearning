{
 "cells": [
  {
   "cell_type": "markdown",
   "metadata": {},
   "source": [
    "# StratifiedKFold用法类似Kfold，但是他是分层采样，确保训练集，测试集中各类别样本的比例与原始数据集中相同。"
   ]
  },
  {
   "cell_type": "code",
   "execution_count": 2,
   "metadata": {},
   "outputs": [
    {
     "name": "stdout",
     "output_type": "stream",
     "text": [
      "Train: [1 3 4 5 6 7] | test: [0 2]\n",
      " \n",
      "Train: [0 2 4 5 6 7] | test: [1 3]\n",
      " \n",
      "Train: [0 1 2 3 5 7] | test: [4 6]\n",
      " \n",
      "Train: [0 1 2 3 4 6] | test: [5 7]\n",
      " \n",
      "Train: [2 3 4 5 6 7] | test: [0 1]\n",
      " \n",
      "Train: [0 1 4 5 6 7] | test: [2 3]\n",
      " \n",
      "Train: [0 1 2 3 6 7] | test: [4 5]\n",
      " \n",
      "Train: [0 1 2 3 4 5] | test: [6 7]\n",
      " \n"
     ]
    }
   ],
   "source": [
    "import numpy as np \n",
    "from sklearn.model_selection import KFold,StratifiedKFold\n",
    "X=np.array([\n",
    "    [1,2,3,4],\n",
    "    [11,12,13,14],\n",
    "    [21,22,23,24],\n",
    "    [31,32,33,34],\n",
    "    [41,42,43,44],\n",
    "    [51,52,53,54],\n",
    "    [61,62,63,64],\n",
    "    [71,72,73,74]\n",
    "])\n",
    "\n",
    "y=np.array([1,1,0,0,1,1,0,0])\n",
    "#n_folds这个参数没有，引入的包不同.\n",
    "floder = KFold(n_splits=4,random_state=0,shuffle=False)\n",
    "sfolder = StratifiedKFold(n_splits=4,random_state=0,shuffle=False)\n",
    "\n",
    "for train, test in sfolder.split(X,y):\n",
    "    print('Train: %s | test: %s' % (train, test))\n",
    "    print(\" \")\n",
    "\n",
    "for train, test in floder.split(X,y):\n",
    "    print('Train: %s | test: %s' % (train, test))\n",
    "    print(\" \")"
   ]
  }
 ],
 "metadata": {
  "kernelspec": {
   "display_name": "Python [default]",
   "language": "python",
   "name": "python3"
  },
  "language_info": {
   "codemirror_mode": {
    "name": "ipython",
    "version": 3
   },
   "file_extension": ".py",
   "mimetype": "text/x-python",
   "name": "python",
   "nbconvert_exporter": "python",
   "pygments_lexer": "ipython3",
   "version": "3.6.5"
  },
  "toc": {
   "base_numbering": 1,
   "nav_menu": {},
   "number_sections": true,
   "sideBar": true,
   "skip_h1_title": false,
   "title_cell": "Table of Contents",
   "title_sidebar": "Contents",
   "toc_cell": false,
   "toc_position": {},
   "toc_section_display": true,
   "toc_window_display": false
  }
 },
 "nbformat": 4,
 "nbformat_minor": 2
}
