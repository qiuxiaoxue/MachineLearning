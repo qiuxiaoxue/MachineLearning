{
 "cells": [
  {
   "cell_type": "markdown",
   "metadata": {},
   "source": [
    "# JupyterNotebook种markdown的语法"
   ]
  },
  {
   "cell_type": "markdown",
   "metadata": {
    "heading_collapsed": true
   },
   "source": [
    "## 换行：\n",
    "&ensp;&ensp;1.连续两个以上的空格+回车。<br>\n",
    "&ensp;&ensp;2.使用HTML语言换行标签：< br >"
   ]
  },
  {
   "cell_type": "markdown",
   "metadata": {
    "heading_collapsed": true
   },
   "source": [
    "## 首行缩进两个字符(每个表示一个空格，连续使用两个即可）:\n",
    "&ensp;&ensp;1.&amp;ensp;半角空格  <br>&ensp;&ensp;2.&amp;emsp;全角空格"
   ]
  },
  {
   "cell_type": "markdown",
   "metadata": {},
   "source": [
    "##  字体、字号、颜色\n",
    "Jupyter Notebook 中编辑文本用到的是Markdown，它是一种可以使用普通文本编辑器编写的标记语言，通过类似HTML的标记语法，它可以使普通文本内容具有一定的格式。它本身是不支持修改字体、字号与颜色等功能的！ 但它内嵌HTML，接下来要讲的功能就需要使用内嵌HTML的方法来实现。"
   ]
  },
  {
   "cell_type": "raw",
   "metadata": {},
   "source": [
    "<font face=\"黑体\"> 我是黑体字 </font>\n",
    "<font face=\"微软雅黑\"> 我是微软雅黑 </font>\n",
    "<font face=\"STCAIYUN\">我是华文彩云</font>\n",
    "<font color=#0099ff size=7 face=\"黑体\"> color=#0099ff size=72 face=\"黑体\" </font>\n",
    "<font color=#00ffff size=72> color=#00ffff </font>\n",
    "<font color=gray size=72> color=gray </font>"
   ]
  },
  {
   "cell_type": "markdown",
   "metadata": {},
   "source": [
    "Size：规定文本的尺寸大小。可能的值：从 1 到 7 的数字。浏览器默认值是 3 ；<br>\n",
    "具体颜色分类及标记请参照：<a href=\"https://blog.csdn.net/testcs_dn/article/details/45719357/\">各种颜色</a>"
   ]
  },
  {
   "cell_type": "markdown",
   "metadata": {},
   "source": [
    "## 背景色:\n",
    "Markdown本身不支持背景色设置，需要采用内置html的方式实现：借助 table, tr, td 等表格标签的 bgcolor 属性来实现背景色的功能。举例如下："
   ]
  },
  {
   "cell_type": "raw",
   "metadata": {},
   "source": [
    "<table><tr><td bgcolor=orange> 背景色是：orange </td></tr></table>\n",
    "\n",
    "效果如下:"
   ]
  },
  {
   "cell_type": "markdown",
   "metadata": {},
   "source": [
    "<table><tr><td bgcolor=orange> 背景色是：orange </td></tr></table>"
   ]
  },
  {
   "cell_type": "code",
   "execution_count": null,
   "metadata": {},
   "outputs": [],
   "source": []
  }
 ],
 "metadata": {
  "kernelspec": {
   "display_name": "Python [default]",
   "language": "python",
   "name": "python3"
  },
  "language_info": {
   "codemirror_mode": {
    "name": "ipython",
    "version": 3
   },
   "file_extension": ".py",
   "mimetype": "text/x-python",
   "name": "python",
   "nbconvert_exporter": "python",
   "pygments_lexer": "ipython3",
   "version": "3.6.5"
  },
  "toc": {
   "base_numbering": 1,
   "nav_menu": {},
   "number_sections": true,
   "sideBar": true,
   "skip_h1_title": false,
   "title_cell": "Table of Contents",
   "title_sidebar": "Contents",
   "toc_cell": false,
   "toc_position": {},
   "toc_section_display": true,
   "toc_window_display": true
  }
 },
 "nbformat": 4,
 "nbformat_minor": 2
}
