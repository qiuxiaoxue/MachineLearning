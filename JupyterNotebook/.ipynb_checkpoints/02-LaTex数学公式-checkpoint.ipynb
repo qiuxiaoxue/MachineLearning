{
 "cells": [
  {
   "cell_type": "markdown",
   "metadata": {},
   "source": [
    "# <a href=\"https://www.zybuluo.com/codeep/note/163962\"> Markdown 公式指导手册 </a>"
   ]
  },
  {
   "cell_type": "markdown",
   "metadata": {},
   "source": [
    "## 目录\n",
    "一、公式使用参考<br>\n",
    "&ensp;&ensp;1．如何插入公式<br>\n",
    "&ensp;&ensp;2．如何输入上下标<br>\n",
    "&ensp;&ensp;3．如何输入括号和分隔符<br>\n",
    "&ensp;&ensp;4．如何输入分数<br>\n",
    "&ensp;&ensp;5．如何输入开方<br>\n",
    "&ensp;&ensp;6．如何输入省略号<br>\n",
    "&ensp;&ensp;7．如何输入矢量<br>\n",
    "&ensp;&ensp;8．如何输入积分<br>\n",
    "&ensp;&ensp;9．如何输入极限运算<br>\n",
    "&ensp;&ensp;10．如何输入累加、累乘运算<br>\n",
    "&ensp;&ensp;11．如何输入希腊字母<br>\n",
    "&ensp;&ensp;12．如何输入其它特殊字符<br>\n",
    "&ensp;&ensp;&ensp;&ensp;(1)．关系运算符<br>\n",
    "&ensp;&ensp;&ensp;&ensp;(2)．集合运算符<br>\n",
    "&ensp;&ensp;&ensp;&ensp;(3)．对数运算符<br>\n",
    "&ensp;&ensp;&ensp;&ensp;(4)．三角运算符<br>\n",
    "&ensp;&ensp;&ensp;&ensp;(5)．微积分运算符<br>\n",
    "&ensp;&ensp;&ensp;&ensp;(6)．逻辑运算符<br>\n",
    "&ensp;&ensp;&ensp;&ensp;(7)．戴帽符号<br>\n",
    "&ensp;&ensp;&ensp;&ensp;(8)．连线符号<br>\n",
    "&ensp;&ensp;&ensp;&ensp;(9)．箭头符号<br>\n",
    "&ensp;&ensp;13．如何进行字体转换<br>\n",
    "&ensp;&ensp;14．大括号和行标的使用<br>\n",
    "&ensp;&ensp;15．其它命令<br>\n",
    "&ensp;&ensp;&ensp;&ensp;(1)．定义新的符号 \\operatorname<br>\n",
    "&ensp;&ensp;&ensp;&ensp;(2)．添加注释文字 \\text<br>\n",
    "&ensp;&ensp;&ensp;&ensp;(3)．在字符间加入空格<br>\n",
    "&ensp;&ensp;&ensp;&ensp;(4)．更改文字颜色<br>\n",
    "&ensp;&ensp;&ensp;&ensp;(5)．添加删除线<br>\n",
    "二、矩阵使用参考<br>\n",
    "&ensp;&ensp;1．如何输入无框矩阵<br>\n",
    "&ensp;&ensp;2．如何输入边框矩阵<br>\n",
    "&ensp;&ensp;3．如何输入带省略符号的矩阵<br>\n",
    "&ensp;&ensp;4．如何输入带分割符号的矩阵<br>\n",
    "&ensp;&ensp;5．如何输入行中矩阵<br>\n",
    "三、方程式序列使用参考<br>\n",
    "&ensp;&ensp;1．如何输入一个方程式序列<br>\n",
    "&ensp;&ensp;2．在一个方程式序列的每一行中注明原因<br>\n",
    "四、条件表达式使用参考<br>\n",
    "&ensp;&ensp;1．如何输入一个条件表达式<br>\n",
    "&ensp;&ensp;2．如何输入一个左侧对齐的条件表达式<br>\n",
    "&ensp;&ensp;3．如何使条件表达式适配行高<br>\n",
    "五、数组与表格使用参考<br>\n",
    "&ensp;&ensp;1．如何输入一个数组或表格<br>\n",
    "&ensp;&ensp;2．如何输入一个嵌套的数组或表格<br>\n",
    "&ensp;&ensp;3．如何输入一个方程组<br>\n",
    "六、连分数使用参考<br>\n",
    "&ensp;&ensp;1．如何输入一个连分式<br>\n",
    "七、交换图表使用参考<br>\n",
    "&ensp;&ensp;1．如何输入一个交换图表<br>\n",
    "八、一些特殊的注意事项<br>"
   ]
  },
  {
   "cell_type": "markdown",
   "metadata": {},
   "source": [
    "## 一、公式使用参考  \n",
    "LATEX 的数学公式有两种：行中公式和独立公式。行中公式放在文中与其它文字混编，独立公式单独成行。  \n",
    "<b>行中公式可以用如下方法表示：</b>"
   ]
  },
  {
   "cell_type": "raw",
   "metadata": {},
   "source": [
    "$ 数学公式 $"
   ]
  },
  {
   "cell_type": "markdown",
   "metadata": {},
   "source": [
    "<b> 独立公式可以用如下方法表示：<\\b>"
   ]
  },
  {
   "cell_type": "raw",
   "metadata": {},
   "source": [
    "$$ 数学公式 $$"
   ]
  },
  {
   "cell_type": "markdown",
   "metadata": {},
   "source": [
    "<b> 自动编号的公式可以用如下方法表示：</b>"
   ]
  },
  {
   "cell_type": "raw",
   "metadata": {},
   "source": [
    "\\begin{equation}\n",
    "数学公式\n",
    "\\label{eq:当前公式名}\n",
    "\\end{equation}"
   ]
  },
  {
   "cell_type": "markdown",
   "metadata": {},
   "source": [
    "**自动编号后的公式可在全文任意处使用 \\eqref{ eq:公式名 } 语句引用。"
   ]
  },
  {
   "cell_type": "code",
   "execution_count": null,
   "metadata": {},
   "outputs": [],
   "source": []
  }
 ],
 "metadata": {
  "kernelspec": {
   "display_name": "Python [default]",
   "language": "python",
   "name": "python3"
  },
  "language_info": {
   "codemirror_mode": {
    "name": "ipython",
    "version": 3
   },
   "file_extension": ".py",
   "mimetype": "text/x-python",
   "name": "python",
   "nbconvert_exporter": "python",
   "pygments_lexer": "ipython3",
   "version": "3.6.5"
  },
  "toc": {
   "base_numbering": 1,
   "nav_menu": {},
   "number_sections": true,
   "sideBar": true,
   "skip_h1_title": false,
   "title_cell": "Table of Contents",
   "title_sidebar": "Contents",
   "toc_cell": false,
   "toc_position": {},
   "toc_section_display": true,
   "toc_window_display": false
  }
 },
 "nbformat": 4,
 "nbformat_minor": 2
}
